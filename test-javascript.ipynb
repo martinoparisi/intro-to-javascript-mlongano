{
 "cells": [
  {
   "cell_type": "code",
   "execution_count": null,
   "metadata": {},
   "outputs": [
    {
     "name": "stdout",
     "output_type": "stream",
     "text": [
      "Hello, World!\n"
     ]
    }
   ],
   "source": [
    "{// Creo uno scope lessicale per non avere conflitti di nomi\n",
    "let age = 30;                                       // Memorizzato sullo stack\n",
    "let age1 = age;                                     // Una copia del valore viene creata\n",
    "age = 31;                                           // non modifica il 'contenuto' di age1 ma crea un nuovo valore␣\n",
    "//↪nello stack e cambia il riferimento di age\n",
    "console.log(age);                                   // 31\n",
    "console.log(age1);                                  // 30\n",
    "let immutable = \"hello\";\n",
    "\n",
    "4\n",
    "\n",
    "let copy = immutable.slice(0, 4);                   // Crea una nuova stringa \"hell\", non␣\n",
    "//↪modifica la stringa originale \"hello\"\n",
    "console.log(immutable);                             // hello\n",
    "console.log(copy);                                  // hell\n",
    "// Compara con i tipi di riferimento\n",
    "let mutable = [1, 2, 3];                            // Memorizzato sullo heap\n",
    "let mutableCopy = mutable;                          // mutableCopy punta allo stesso oggetto\n",
    "mutableCopy.push(4);                                // Modificare mutableCopy modifica mutable\n",
    "console.log(mutable);                               // [1, 2, 3, 4]\n",
    "console.log(mutableCopy);                           // [1, 2, 3, 4]\n",
    "mutable.sort((a, b) => b - a);                      // Modificare mutable modifica mutableCopy\n",
    "console.log(mutable);                               // [4, 3, 2, 1]\n",
    "console.log(mutableCopy);                           // [4, 3, 2, 1]\n",
    "}"
   ]
  }
 ],
 "metadata": {
  "kernelspec": {
   "display_name": "Deno",
   "language": "typescript",
   "name": "deno"
  },
  "language_info": {
   "file_extension": ".ts",
   "mimetype": "text/x.typescript",
   "name": "typescript",
   "nb_converter": "script",
   "pygments_lexer": "typescript",
   "version": "5.3.3"
  }
 },
 "nbformat": 4,
 "nbformat_minor": 4
}
