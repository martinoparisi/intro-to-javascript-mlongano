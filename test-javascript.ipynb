{
 "cells": [
  {
   "cell_type": "code",
   "execution_count": null,
   "metadata": {},
   "outputs": [
    {
     "name": "stdout",
     "output_type": "stream",
     "text": [
      "Hello, World!\n"
     ]
    }
   ],
   "source": [
    "{ // Creo uno scope lessicale per non avere conflitti di nomi\n",
    "  let age = 30; // Memorizzato sullo stack\n",
    "  let age1 = age; // Una copia del valore viene creata\n",
    "  age = 31; // non modifica il 'contenuto' di age1 ma crea un nuovo valore nello stack\n",
    "  console.log(age); // 31\n",
    "  console.log(age1); // 30\n",
    "  let immutable = \"hello\";\n",
    "  let copy = immutable.slice(0, 4); // Crea una nuova stringa \"hell\", non modifica la\n",
    "  console.log(immutable); // hello\n",
    "  console.log(copy); // hell\n",
    "  // Compara con i tipi di riferimento\n",
    "  let mutable = [1, 2, 3]; // Memorizzato sullo heap\n",
    "  let mutableCopy = mutable; // mutableCopy punta allo stesso oggetto\n",
    "  mutableCopy.push(4); // Modificare mutableCopy modifica mutable\n",
    "  console.log(mutable); // [1, 2, 3, 4]\n",
    "  console.log(mutableCopy); // [1, 2, 3, 4]\n",
    "  mutable.sort((a, b) => b - a); // Modificare mutable modifica mutableCopy\n",
    "  console.log(mutable); // [4, 3, 2, 1]\n",
    "  console.log(mutableCopy); // [4, 3, 2, 1]"
   ]
  },
  {
   "cell_type": "code",
   "execution_count": null,
   "metadata": {},
   "outputs": [],
   "source": [
    "function modifyPrimitive(value) {\n",
    "    value = \"Cambiato all'interno della funzione\";\n",
    "    console.log(\"Dentro:\", value); // Dentro: Cambiato all'interno della funzione\n",
    "    }\n",
    "    let str = \"Originale\";\n",
    "    modifyPrimitive(str);\n",
    "    console.log(\"Fuori:\", str); // Fuori: Originale"
   ]
  },
  {
   "cell_type": "code",
   "execution_count": null,
   "metadata": {},
   "outputs": [],
   "source": [
    "// Esempio simile a quello visto nel confronto tra tipi primitivi e tipi di riferimen\n",
    "let info = { Name: \"ABC\", Age: 10 }; // L'oggetto è memorizzato sull'heap\n",
    "let info1 = info; // info1 e info2 puntano allo stesso riferimento\n",
    "console.log(info); // Output: { name: 'ABC', age: 10 }\n",
    "console.log(info1); // Output: { name: 'ABC', age: 10 }\n",
    "// Modificare una proprietà riferita da info1 e non modificare il rifereimento di inf\n",
    "info1.Age = 14;\n",
    "console.log(info); // Output: { name: 'ABC', age: 14 }\n",
    "console.log(info1); // Output: { name: 'ABC', age: 14 }"
   ]
  },
  {
   "cell_type": "code",
   "execution_count": null,
   "metadata": {},
   "outputs": [],
   "source": [
    "var nome;\n",
    "let eta;\n",
    "// const piGreco; // Errore: const deve essere inizializzata\n",
    "const piGreco = 3.14;\n",
    "try {\n",
    "let eta = 31;\n",
    "console.log(`Il mio nome è ${nome} e ho ${eta} anni`);\n",
    "piGreco = 3.1415;\n",
    "} catch (error) {\n",
    "console.log(error.message);\n",
    "}\n",
    "// Stampa su console i valori delle variabili utilizzando la template string\n",
    "console.log(`Il mio nome è ${nome} e ho ${eta} anni`);\n",
    "console.log(`Il valore di pi greco è ${piGreco}`);"
   ]
  },
  {
   "cell_type": "code",
   "execution_count": null,
   "metadata": {},
   "outputs": [],
   "source": [
    "// String\n",
    "let greeting = \"Hello, world!\";\n",
    "console.log(`Il tipo di greeting è ${typeof greeting}`); // Output: \"Il tipo di greeti\n",
    "// Number\n",
    "let age = 30;\n",
    "console.log(`Il tipo di age è ${typeof age}`); // Output: \"Il tipo di age è number\"\n",
    "// Boolean\n",
    "let isStudent = true;\n",
    "console.log(`Il tipo di isStudent è ${typeof isStudent}`); // Output: \"Il tipo di isS\n",
    "// Null\n",
    "let emptyValue = null;\n",
    "console.log(`Il tipo di emptyValue è ${typeof emptyValue}`); // Output: \"Il tipo di em\n",
    "// Undefined\n",
    "let notAssigned;\n",
    "console.log(`Il tipo di notAssigned è ${typeof notAssigned}`); // Output: \"Il tipo di\n",
    "// Symbol\n",
    "let uniqueId = Symbol(\"id\");\n",
    "console.log(`Il tipo di uniqueId è ${typeof uniqueId}`); // Output: \"Il tipo di unique"
   ]
  },
  {
   "cell_type": "code",
   "execution_count": null,
   "metadata": {},
   "outputs": [],
   "source": [
    "// Intero\n",
    "let integerNumber = 42;\n",
    "// Numero a virgola mobile\n",
    "let floatingPointNumber = 3.14;\n",
    "// Negativo\n",
    "let negativeNumber = -5;\n",
    "// Zero\n",
    "let zero = 0;\n",
    "// Esponenziale\n",
    "let exponentialNumber = 1.23e5; // 1.23 x 10^5\n",
    "// Esadecimale\n",
    "let hexadecimalNumber = 0xFF; // 255 in decimale\n",
    "// Binario\n",
    "let binaryNumber = 0b1010; // 10 in decimale\n",
    "// Ottale\n",
    "let octalNumber = 0o744; // 484 in decimale"
   ]
  },
  {
   "cell_type": "code",
   "execution_count": null,
   "metadata": {},
   "outputs": [],
   "source": [
    "console.log(0.1 + 0.2); // Risultato atteso: 0.3\n",
    "console.log(0.1 + 0.2 === 0.3); // False"
   ]
  },
  {
   "cell_type": "code",
   "execution_count": null,
   "metadata": {},
   "outputs": [],
   "source": [
    "// Definizione di una varibile per i risultati negli esempi successivi\n",
    "let result;"
   ]
  },
  {
   "cell_type": "code",
   "execution_count": null,
   "metadata": {},
   "outputs": [],
   "source": [
    "// Esempio di arrotondamento con Math.round()\n",
    "result = 0.1 + 0.2;\n",
    "// Arrotondamento a 2 cifre decimali\n",
    "let roundedResult = Math.round(result * 100) / 100;\n",
    "console.log(roundedResult === 0.3); // Output: true"
   ]
  },
  {
   "cell_type": "code",
   "execution_count": null,
   "metadata": {},
   "outputs": [],
   "source": [
    "// Esempio di confronto con una soglia di precisione\n",
    "const epsilon = 0.000001; // Soglia di precisione\n",
    "result = 0.1 + 0.2;\n",
    "let isEqual = Math.abs(0.3 - result) < epsilon;\n",
    "console.log(isEqual); // Output: true"
   ]
  },
  {
   "cell_type": "code",
   "execution_count": null,
   "metadata": {},
   "outputs": [],
   "source": [
    "import { BigDenary } from \"https://deno.land/x/bigdenary/mod.ts\";\n",
    "let x = new BigDenary(0.1);\n",
    "let y = new BigDenary(0.2);\n",
    "let z = new BigDenary(0.3);\n",
    "console.log(x.plus(y).equals(z)); // true"
   ]
  },
  {
   "cell_type": "code",
   "execution_count": null,
   "metadata": {},
   "outputs": [],
   "source": [
    "// Esempio di confronto dopo l'arrotondamento con toFixed\n",
    "result = 0.1 + 0.2;\n",
    "console.log(result); // Output: Un valore vicino a 0.3, ma non esattamente 0.3\n",
    "// Arrotondare a 2 cifre decimali\n",
    "roundedResult = result.toFixed(2);\n",
    "console.log(typeof roundedResult);\n",
    "// Confronto con '0.30'\n",
    "console.log(roundedResult === \"0.30\"); // Output: true"
   ]
  },
  {
   "cell_type": "code",
   "execution_count": null,
   "metadata": {},
   "outputs": [],
   "source": [
    "const previouslyMaxSafeInteger = 9007199254740991n;\n",
    "const alsoHuge = BigInt(9007199254740991);\n",
    "// 9007199254740991n\n",
    "const hugeString = BigInt(\"9007199254740991\");\n",
    "// 9007199254740991n\n",
    "const hugeHex = BigInt(\"0x1fffffffffffff\");\n",
    "// 9007199254740991n\n",
    "const hugeOctal = BigInt(\"0o377777777777777777\");\n",
    "// 9007199254740991n\n",
    "const hugeBin = BigInt(\n",
    "\"0b11111111111111111111111111111111111111111111111111111\",\n",
    ");\n",
    "// 9007199254740991n"
   ]
  },
  {
   "cell_type": "code",
   "execution_count": null,
   "metadata": {},
   "outputs": [],
   "source": [
    "console.log(0 == \"0\"); // true, perché '0' viene convertito in numero\n",
    "console.log(0 === \"0\"); // false, non avviene nessuna conversione"
   ]
  },
  {
   "cell_type": "code",
   "execution_count": null,
   "metadata": {},
   "outputs": [],
   "source": [
    "console.log(5 + \"5\"); // Output: \"55\" e non 10"
   ]
  },
  {
   "cell_type": "code",
   "execution_count": null,
   "metadata": {},
   "outputs": [],
   "source": [
    "// attenzione a NON usarlo con valori numerici\n",
    "// 0 è un valore perfettamente valido ma viene considerato falsy\n",
    "// e quindi il valore di default viene utilizzato al posto di 0\n",
    "{\n",
    "    let value = 0;\n",
    "    let myVariable = value || \"default value1\";\n",
    "    console.log(myVariable); // Output: \"default value1\"\n",
    "    }\n",
    "    {\n",
    "    let value = \"\";\n",
    "    let myVariable = value || \"default value2\";\n",
    "    console.log(myVariable); // Output: \"default value2\"\n",
    "    }\n",
    "    {\n",
    "    let value;\n",
    "    let myVariable = value || \"default value3\";\n",
    "    console.log(myVariable); // Output: \"default value3\"\n",
    "    }\n",
    "    // Usare il nullish coalescing operator ?? per evitare problemi con valori falsy\n",
    "    {\n",
    "    let value = \"\";\n",
    "    let myVariable = value ?? \"default value4\";\n",
    "    console.log(myVariable); // Output: \"\"\n",
    "    }\n",
    "    {\n",
    "    let value = 0;\n",
    "    let myVariable = value ?? \"default value5\";\n",
    "    console.log(myVariable); // Output: 0\n",
    "    }\n",
    "    {\n",
    "    let value = null;\n",
    "    let myVariable = value ?? \"default value6\";\n",
    "    console.log(myVariable); // Output: \"default value6\""
   ]
  },
  {
   "cell_type": "code",
   "execution_count": null,
   "metadata": {},
   "outputs": [],
   "source": [
    "let myString = \"Hello, world!\";\n",
    "console.log(myString.toUpperCase()); // \"HELLO, WORLD!\"\n",
    "// Dietro le quinte, JavaScript fa qualcosa di simile a:\n",
    "console.log(new String(myString).toUpperCase());\n",
    "let myNumber = 123.456;\n",
    "console.log(myNumber.toFixed(2)); // \"123.46\"\n",
    "// Dietro le quinte, JavaScript fa qualcosa di simile a:\n",
    "console.log(new Number(myNumber).toFixed(2));\n",
    "let myBool = true;\n",
    "console.log(myBool.toString()); // \"true\"\n",
    "// Dietro le quinte, JavaScript fa qualcosa di simile a:\n",
    "console.log(new Boolean(myBool).toString());"
   ]
  },
  {
   "cell_type": "code",
   "execution_count": null,
   "metadata": {},
   "outputs": [],
   "source": [
    "console.log(typeof [1, 2, 3]); // \"object\"\n",
    "console.log(Array.isArray([1, 2, 3])); // true"
   ]
  },
  {
   "cell_type": "code",
   "execution_count": null,
   "metadata": {},
   "outputs": [],
   "source": [
    "let arr = [1, 2, 3, 4, 5];\n",
    "console.log(arr.length); // Output: 5"
   ]
  },
  {
   "cell_type": "code",
   "execution_count": null,
   "metadata": {},
   "outputs": [],
   "source": [
    "function multiplyTs(...args: number[]) {\n",
    "    return args.reduce((a, b) => a * b); // vedere la funzione reduce descrtta in segui\n",
    "    }\n",
    "    function multiplyJs() {\n",
    "    // return Array.prototype.reduce.call(arguments, (a, b) => a * b);\n",
    "    // arguments è un oggetto 'simile' ad un array che contiene i parametri passati alla\n",
    "    return [...arguments].reduce((a, b) => a * b);\n",
    "    }\n",
    "    let numbersExtended = [...numbers, 2, 3, 4];\n",
    "    console.log(multiplyTs(...numbers, 10, 20));\n",
    "    console.log(multiplyJs(...numbersExtended));\n",
    "    console.log(multiplyJs(2, 1, 1));"
   ]
  },
  {
   "cell_type": "code",
   "execution_count": null,
   "metadata": {},
   "outputs": [],
   "source": [
    "let a, b, rest;\n",
    "[a, b] = [10, 20];\n",
    "console.log(a);\n",
    "// Expected output: 10\n",
    "console.log(b);\n",
    "// Expected output: 20\n",
    "[a, b, ...rest] = [10, 20, 30, 40, 50];\n",
    "console.log(rest);\n",
    "// Expected output: Array [30, 40, 50]"
   ]
  },
  {
   "cell_type": "code",
   "execution_count": null,
   "metadata": {},
   "outputs": [],
   "source": [
    "const oggetto = {\n",
    "    c: 10,\n",
    "    d: {\n",
    "        e: 20,\n",
    "        f: 30\n",
    "    }\n",
    "    };\n",
    "}\n",
    "\n",
    "const oggetto2 = {...oggetto};\n",
    "\n",
    "console.log(oggetto === oggetto2); // Output: false\n",
    "console.log(oggetto.d === oggetto2.d); // Output: true"
   ]
  }
 ],
 "metadata": {
  "kernelspec": {
   "display_name": "Deno",
   "language": "typescript",
   "name": "deno"
  },
  "language_info": {
   "file_extension": ".ts",
   "mimetype": "text/x.typescript",
   "name": "typescript",
   "nb_converter": "script",
   "pygments_lexer": "typescript",
   "version": "5.3.3"
  }
 },
 "nbformat": 4,
 "nbformat_minor": 4
}
